{
 "cells": [
  {
   "cell_type": "markdown",
   "id": "5a23c15c",
   "metadata": {},
   "source": [
    "## Presets"
   ]
  },
  {
   "cell_type": "code",
   "execution_count": 1,
   "id": "3c78bff8",
   "metadata": {},
   "outputs": [],
   "source": [
    "import os, sys\n",
    "PWD = os.getenv('PWD')\n",
    "os.chdir(PWD)\n",
    "sys.path.insert(0, os.getenv('PWD'))\n",
    "os.environ.setdefault(\"DJANGO_SETTINGS_MODULE\", \"edusite/settings.py\")\n",
    "os.environ[\"DJANGO_ALLOW_ASYNC_UNSAFE\"] = \"true\"\n",
    "import django\n",
    "django.setup()"
   ]
  },
  {
   "cell_type": "markdown",
   "id": "791f3d94",
   "metadata": {},
   "source": [
    "---"
   ]
  },
  {
   "cell_type": "code",
   "execution_count": 2,
   "id": "c6bfe62f",
   "metadata": {},
   "outputs": [],
   "source": [
    "from expenses.models import BankAccount\n",
    "\n",
    "from datetime import timedelta\n",
    "from django.utils import timezone"
   ]
  },
  {
   "cell_type": "code",
   "execution_count": 3,
   "id": "1dd69cf9",
   "metadata": {},
   "outputs": [],
   "source": [
    "import random\n",
    "from collections import Counter"
   ]
  },
  {
   "cell_type": "code",
   "execution_count": 4,
   "id": "fabfd3f1",
   "metadata": {},
   "outputs": [],
   "source": [
    "# for raw queries to DB\n",
    "from django.db import connection"
   ]
  },
  {
   "cell_type": "markdown",
   "id": "39417d2b",
   "metadata": {},
   "source": [
    "---"
   ]
  },
  {
   "cell_type": "code",
   "execution_count": 5,
   "id": "98b482e6",
   "metadata": {},
   "outputs": [],
   "source": [
    "def dictfetchall(cursor):\n",
    "    \"Return all rows from a cursor as a dict\"\n",
    "    columns = [col[0] for col in cursor.description]\n",
    "    return [\n",
    "        dict(zip(columns, row))\n",
    "        for row in cursor.fetchall()\n",
    "    ]"
   ]
  },
  {
   "cell_type": "code",
   "execution_count": 6,
   "id": "2e6c8f80",
   "metadata": {
    "scrolled": false
   },
   "outputs": [
    {
     "name": "stdout",
     "output_type": "stream",
     "text": [
      "{'QUERY PLAN': 'Seq Scan on expenses_bankaccount  (cost=0.00..13.00 rows=300 width=238) (actual time=0.012..0.015 rows=3 loops=1)'}\n",
      "{'QUERY PLAN': 'Planning Time: 0.611 ms'}\n",
      "{'QUERY PLAN': 'Execution Time: 0.043 ms'}\n"
     ]
    }
   ],
   "source": [
    "with connection.cursor() as cursor:\n",
    "        cursor.execute(\"EXPLAIN ANALYZE SELECT * FROM expenses_bankaccount\")\n",
    "        for i in dictfetchall(cursor):\n",
    "            print(i)"
   ]
  },
  {
   "cell_type": "markdown",
   "id": "d2152c57",
   "metadata": {},
   "source": [
    "## Setting up"
   ]
  },
  {
   "cell_type": "code",
   "execution_count": 7,
   "id": "c8641313",
   "metadata": {},
   "outputs": [
    {
     "data": {
      "text/plain": [
       "<QuerySet [<BankAccount: Bank account #3\n",
       "            Mandalorian \n",
       "            (2022-12-06) \n",
       "            with $99200>, <BankAccount: Bank account #1\n",
       "            admin acc \n",
       "            (2022-12-06) \n",
       "            with $419800>, <BankAccount: Bank account #2\n",
       "            Ivan \n",
       "            (2022-12-06) \n",
       "            with $200700>]>"
      ]
     },
     "execution_count": 7,
     "metadata": {},
     "output_type": "execute_result"
    }
   ],
   "source": [
    "accounts = BankAccount.objects.all()\n",
    "accounts"
   ]
  },
  {
   "cell_type": "code",
   "execution_count": 8,
   "id": "8d8421dd",
   "metadata": {},
   "outputs": [],
   "source": [
    "def send_money_direct(sender_account, money, recipient_account, pub_date):\n",
    "    new_ticket = Ticket()\n",
    "    new_ticket.account = sender_account\n",
    "    new_ticket.ticket_text = 'sending money to acc #' + str(recipient_account.pk)\n",
    "    new_ticket.pub_date = pub_date\n",
    "    new_ticket.money = money\n",
    "    new_ticket.save()\n",
    "    recipient_account.money += money\n",
    "    recipient_account.save()"
   ]
  },
  {
   "cell_type": "code",
   "execution_count": 9,
   "id": "feddd06c",
   "metadata": {},
   "outputs": [],
   "source": [
    "def create_ticket_direct(account, money, description, pub_date):\n",
    "    new_ticket = Ticket()\n",
    "    new_ticket.account = account\n",
    "    new_ticket.ticket_text = description\n",
    "    new_ticket.pub_date = pub_date\n",
    "    new_ticket.money = money\n",
    "    new_ticket.save()"
   ]
  },
  {
   "cell_type": "code",
   "execution_count": 10,
   "id": "2b022f2e",
   "metadata": {},
   "outputs": [
    {
     "data": {
      "text/plain": [
       "(<BankAccount: Bank account #3\n",
       "             Mandalorian \n",
       "             (2022-12-06) \n",
       "             with $99200>,\n",
       " <BankAccount: Bank account #1\n",
       "             admin acc \n",
       "             (2022-12-06) \n",
       "             with $419800>,\n",
       " <BankAccount: Bank account #2\n",
       "             Ivan \n",
       "             (2022-12-06) \n",
       "             with $200700>)"
      ]
     },
     "execution_count": 10,
     "metadata": {},
     "output_type": "execute_result"
    }
   ],
   "source": [
    "acc0 = accounts[0]\n",
    "acc1 = accounts[1]\n",
    "acc2 = accounts[2]\n",
    "acc0, acc1, acc2"
   ]
  },
  {
   "cell_type": "code",
   "execution_count": 11,
   "id": "db9e414e",
   "metadata": {},
   "outputs": [],
   "source": [
    "# create_ticket_direct(acc, 10, \"soup\", get_time_delta(0))\n",
    "# send_money_direct(acc1, 20, acc0, get_time_delta(2))"
   ]
  },
  {
   "cell_type": "code",
   "execution_count": 12,
   "id": "f7168709",
   "metadata": {},
   "outputs": [],
   "source": [
    "def get_time_delta(deltahours):\n",
    "    return timezone.now() - timedelta(hours=deltahours)"
   ]
  },
  {
   "cell_type": "code",
   "execution_count": 13,
   "id": "dba6e057",
   "metadata": {},
   "outputs": [],
   "source": [
    "# get_time_delta(0), get_time_delta(1)"
   ]
  },
  {
   "cell_type": "markdown",
   "id": "ff0f0b9f",
   "metadata": {},
   "source": [
    "## Generating pipeline"
   ]
  },
  {
   "cell_type": "code",
   "execution_count": 14,
   "id": "0bded880",
   "metadata": {},
   "outputs": [
    {
     "data": {
      "text/plain": [
       "<QuerySet [<BankAccount: Bank account #3\n",
       "            Mandalorian \n",
       "            (2022-12-06) \n",
       "            with $99200>, <BankAccount: Bank account #1\n",
       "            admin acc \n",
       "            (2022-12-06) \n",
       "            with $419800>, <BankAccount: Bank account #2\n",
       "            Ivan \n",
       "            (2022-12-06) \n",
       "            with $200700>]>"
      ]
     },
     "execution_count": 14,
     "metadata": {},
     "output_type": "execute_result"
    }
   ],
   "source": [
    "accounts = BankAccount.objects.all()\n",
    "accounts"
   ]
  },
  {
   "cell_type": "code",
   "execution_count": 15,
   "id": "59026bf2",
   "metadata": {
    "scrolled": true
   },
   "outputs": [],
   "source": [
    "%%time \n",
    "\n",
    "k = 10000\n",
    "deltahours = k # hours ago\n",
    "action_list = [\"create_ticket\", \"send_money_direct\", \"send_money_direct\"] # weighted-like actions 1:2\n",
    "money_list = [1,1,2,2,5,5,10] # weighted-like money 2:2:2:1\n",
    "tickets_descriptions = [\"pizza\", \"sushi\", \"soup\", \"salad\"]\n",
    "\n",
    "act_log = []\n",
    "res_log = []\n",
    "\n",
    "for acc in random.choices(accounts, weights=[2,5,1], k=k):\n",
    "    \n",
    "    act = random.choice(action_list)\n",
    "    mon = random.choice(money_list)\n",
    "    \n",
    "    if act == \"send_money_direct\":\n",
    "        # choose a recipient account\n",
    "        other_accs = list(filter(lambda x: x != acc, accounts))\n",
    "        to_acc = random.choice(other_accs)\n",
    "        # log action\n",
    "        log_text = f\"sending from <{acc.account_text}> to <{to_acc.account_text}> ${mon}\"\n",
    "        act_log.append(act)\n",
    "        res_log.append(log_text)\n",
    "        \n",
    "        # send money\n",
    "#         send_money_direct(acc, mon, to_acc, get_time_delta(deltahours))\n",
    "        \n",
    "    elif act == \"create_ticket\":\n",
    "        # choose a description of the ticket\n",
    "        text = random.choice(tickets_descriptions)\n",
    "        # log action\n",
    "        log_text = f\"creating ticket for <{acc.account_text}>: {text} ${mon}\"\n",
    "        act_log.append(act)\n",
    "        res_log.append(log_text)\n",
    "        \n",
    "        # create ticket\n",
    "#         create_ticket_direct(acc, mon, text, get_time_delta(deltahours))\n",
    "    \n",
    "    # decrease time delta\n",
    "    deltahours -= random.choice([0,0,1])"
   ]
  },
  {
   "cell_type": "markdown",
   "id": "cceb188d",
   "metadata": {},
   "source": [
    "## Result"
   ]
  },
  {
   "cell_type": "code",
   "execution_count": 16,
   "id": "46148234",
   "metadata": {},
   "outputs": [
    {
     "data": {
      "text/plain": [
       "Counter({'send_money_direct': 6674, 'create_ticket': 3326})"
      ]
     },
     "execution_count": 16,
     "metadata": {},
     "output_type": "execute_result"
    }
   ],
   "source": [
    "Counter(act_log)"
   ]
  },
  {
   "cell_type": "code",
   "execution_count": 17,
   "id": "c3fc4eb0",
   "metadata": {},
   "outputs": [
    {
     "data": {
      "text/plain": [
       "Counter({'sending from <Mandalorian> to <Ivan> $10': 127,\n",
       "         'sending from <admin acc> to <Ivan> $5': 601,\n",
       "         'creating ticket for <admin acc>: sushi $2': 140,\n",
       "         'sending from <admin acc> to <Mandalorian> $5': 570,\n",
       "         'creating ticket for <Ivan>: pizza $2': 35,\n",
       "         'creating ticket for <admin acc>: soup $2': 152,\n",
       "         'creating ticket for <Mandalorian>: sushi $5': 64,\n",
       "         'creating ticket for <admin acc>: pizza $2': 149,\n",
       "         'sending from <admin acc> to <Mandalorian> $10': 265,\n",
       "         'sending from <Mandalorian> to <admin acc> $5': 251,\n",
       "         'creating ticket for <admin acc>: salad $2': 162,\n",
       "         'creating ticket for <Ivan>: soup $1': 29,\n",
       "         'sending from <Mandalorian> to <Ivan> $1': 241,\n",
       "         'creating ticket for <Ivan>: soup $5': 26,\n",
       "         'creating ticket for <admin acc>: soup $5': 149,\n",
       "         'sending from <Ivan> to <Mandalorian> $10': 46,\n",
       "         'creating ticket for <admin acc>: pizza $10': 75,\n",
       "         'sending from <Mandalorian> to <admin acc> $10': 119,\n",
       "         'creating ticket for <admin acc>: soup $10': 67,\n",
       "         'sending from <admin acc> to <Mandalorian> $2': 618,\n",
       "         'sending from <admin acc> to <Ivan> $10': 296,\n",
       "         'creating ticket for <Mandalorian>: pizza $2': 51,\n",
       "         'sending from <admin acc> to <Ivan> $1': 637,\n",
       "         'sending from <Mandalorian> to <admin acc> $2': 229,\n",
       "         'creating ticket for <admin acc>: soup $1': 181,\n",
       "         'sending from <Mandalorian> to <Ivan> $5': 220,\n",
       "         'sending from <admin acc> to <Mandalorian> $1': 575,\n",
       "         'sending from <admin acc> to <Ivan> $2': 648,\n",
       "         'creating ticket for <admin acc>: sushi $10': 70,\n",
       "         'sending from <Ivan> to <admin acc> $2': 115,\n",
       "         'creating ticket for <admin acc>: sushi $5': 167,\n",
       "         'creating ticket for <Mandalorian>: salad $1': 60,\n",
       "         'creating ticket for <admin acc>: sushi $1': 140,\n",
       "         'sending from <Ivan> to <Mandalorian> $5': 129,\n",
       "         'sending from <Ivan> to <admin acc> $10': 64,\n",
       "         'creating ticket for <Mandalorian>: soup $10': 20,\n",
       "         'creating ticket for <Mandalorian>: soup $1': 45,\n",
       "         'sending from <Ivan> to <admin acc> $5': 103,\n",
       "         'sending from <Ivan> to <admin acc> $1': 127,\n",
       "         'sending from <Mandalorian> to <admin acc> $1': 224,\n",
       "         'creating ticket for <admin acc>: salad $5': 153,\n",
       "         'creating ticket for <Mandalorian>: pizza $10': 20,\n",
       "         'sending from <Ivan> to <Mandalorian> $1': 112,\n",
       "         'sending from <Ivan> to <Mandalorian> $2': 114,\n",
       "         'creating ticket for <Ivan>: soup $2': 38,\n",
       "         'creating ticket for <Ivan>: pizza $5': 36,\n",
       "         'creating ticket for <Ivan>: sushi $2': 30,\n",
       "         'creating ticket for <admin acc>: salad $1': 144,\n",
       "         'creating ticket for <Mandalorian>: sushi $1': 54,\n",
       "         'creating ticket for <admin acc>: pizza $1': 148,\n",
       "         'creating ticket for <admin acc>: salad $10': 93,\n",
       "         'sending from <Mandalorian> to <Ivan> $2': 243,\n",
       "         'creating ticket for <Ivan>: soup $10': 16,\n",
       "         'creating ticket for <Ivan>: salad $5': 28,\n",
       "         'creating ticket for <admin acc>: pizza $5': 153,\n",
       "         'creating ticket for <Mandalorian>: salad $5': 66,\n",
       "         'creating ticket for <Mandalorian>: pizza $1': 48,\n",
       "         'creating ticket for <Ivan>: salad $2': 28,\n",
       "         'creating ticket for <Ivan>: salad $1': 26,\n",
       "         'creating ticket for <Mandalorian>: soup $5': 60,\n",
       "         'creating ticket for <Mandalorian>: soup $2': 65,\n",
       "         'creating ticket for <Mandalorian>: sushi $2': 58,\n",
       "         'creating ticket for <Ivan>: sushi $1': 21,\n",
       "         'creating ticket for <Mandalorian>: sushi $10': 27,\n",
       "         'creating ticket for <Mandalorian>: salad $2': 48,\n",
       "         'creating ticket for <Ivan>: sushi $5': 31,\n",
       "         'creating ticket for <Mandalorian>: pizza $5': 53,\n",
       "         'creating ticket for <Ivan>: pizza $10': 13,\n",
       "         'creating ticket for <Mandalorian>: salad $10': 32,\n",
       "         'creating ticket for <Ivan>: sushi $10': 11,\n",
       "         'creating ticket for <Ivan>: pizza $1': 29,\n",
       "         'creating ticket for <Ivan>: salad $10': 15})"
      ]
     },
     "execution_count": 17,
     "metadata": {},
     "output_type": "execute_result"
    }
   ],
   "source": [
    "Counter(res_log)"
   ]
  },
  {
   "cell_type": "code",
   "execution_count": null,
   "id": "003a08ad",
   "metadata": {},
   "outputs": [],
   "source": []
  }
 ],
 "metadata": {
  "kernelspec": {
   "display_name": "Django Shell-Plus",
   "language": "python",
   "name": "django_extensions"
  },
  "language_info": {
   "codemirror_mode": {
    "name": "ipython",
    "version": 3
   },
   "file_extension": ".py",
   "mimetype": "text/x-python",
   "name": "python",
   "nbconvert_exporter": "python",
   "pygments_lexer": "ipython3",
   "version": "3.9.12"
  }
 },
 "nbformat": 4,
 "nbformat_minor": 5
}
