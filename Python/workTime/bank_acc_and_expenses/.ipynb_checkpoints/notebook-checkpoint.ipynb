{
 "cells": [
  {
   "cell_type": "markdown",
   "id": "5a23c15c",
   "metadata": {},
   "source": [
    "## Presets"
   ]
  },
  {
   "cell_type": "code",
   "execution_count": 1,
   "id": "3c78bff8",
   "metadata": {},
   "outputs": [],
   "source": [
    "import os, sys\n",
    "PWD = os.getenv('PWD')\n",
    "os.chdir(PWD)\n",
    "sys.path.insert(0, os.getenv('PWD'))\n",
    "os.environ.setdefault(\"DJANGO_SETTINGS_MODULE\", \"edusite/settings.py\")\n",
    "os.environ[\"DJANGO_ALLOW_ASYNC_UNSAFE\"] = \"true\"\n",
    "import django\n",
    "django.setup()"
   ]
  },
  {
   "cell_type": "markdown",
   "id": "791f3d94",
   "metadata": {},
   "source": [
    "---"
   ]
  },
  {
   "cell_type": "code",
   "execution_count": 2,
   "id": "c6bfe62f",
   "metadata": {},
   "outputs": [],
   "source": [
    "from expenses.models import BankAccount\n",
    "\n",
    "import datetime\n",
    "from django.utils import timezone"
   ]
  },
  {
   "cell_type": "code",
   "execution_count": 3,
   "id": "1dd69cf9",
   "metadata": {},
   "outputs": [],
   "source": [
    "import random\n",
    "from collections import Counter"
   ]
  },
  {
   "cell_type": "code",
   "execution_count": 18,
   "id": "fabfd3f1",
   "metadata": {},
   "outputs": [],
   "source": [
    "# for raw queries to DB\n",
    "from django.db import connection"
   ]
  },
  {
   "cell_type": "markdown",
   "id": "39417d2b",
   "metadata": {},
   "source": [
    "---"
   ]
  },
  {
   "cell_type": "code",
   "execution_count": 4,
   "id": "43632f0a",
   "metadata": {},
   "outputs": [
    {
     "data": {
      "text/plain": [
       "<QuerySet [<BankAccount: Bank account #3\n",
       "            Iva Shu \n",
       "            (2022-10-17) \n",
       "            with $2900>, <BankAccount: Bank account #4\n",
       "            Admin acc \n",
       "            (2022-10-17) \n",
       "            with $7700>, <BankAccount: Bank account #10\n",
       "            vsha96::ivan.shulyugin@yandex.ru \n",
       "            (2022-11-11) \n",
       "            with $1500>]>"
      ]
     },
     "execution_count": 4,
     "metadata": {},
     "output_type": "execute_result"
    }
   ],
   "source": [
    "BankAccount.objects.all()"
   ]
  },
  {
   "cell_type": "code",
   "execution_count": 14,
   "id": "825a862f",
   "metadata": {},
   "outputs": [
    {
     "data": {
      "text/plain": [
       "datetime.datetime(2022, 12, 6, 13, 2, 48, 834173, tzinfo=datetime.timezone.utc)"
      ]
     },
     "execution_count": 14,
     "metadata": {},
     "output_type": "execute_result"
    }
   ],
   "source": [
    "timezone.now()"
   ]
  },
  {
   "cell_type": "code",
   "execution_count": 15,
   "id": "cdbc2463",
   "metadata": {},
   "outputs": [
    {
     "data": {
      "text/plain": [
       "datetime.datetime(2022, 12, 5, 13, 2, 49, 779870, tzinfo=datetime.timezone.utc)"
      ]
     },
     "execution_count": 15,
     "metadata": {},
     "output_type": "execute_result"
    }
   ],
   "source": [
    "timezone.now() - datetime.timedelta(days=1)"
   ]
  },
  {
   "cell_type": "code",
   "execution_count": 7,
   "id": "607e1103",
   "metadata": {
    "scrolled": true
   },
   "outputs": [
    {
     "data": {
      "text/plain": [
       "Counter({'a': 171, 'c': 515, 'b': 314})"
      ]
     },
     "execution_count": 7,
     "metadata": {},
     "output_type": "execute_result"
    }
   ],
   "source": [
    "Counter(random.choices('abc', weights=[1,2,3], k=1000))"
   ]
  },
  {
   "cell_type": "code",
   "execution_count": 16,
   "id": "5f8003d1",
   "metadata": {},
   "outputs": [],
   "source": [
    "accounts = BankAccount.objects.all()"
   ]
  },
  {
   "cell_type": "code",
   "execution_count": 10,
   "id": "4b57e8c5",
   "metadata": {},
   "outputs": [
    {
     "data": {
      "text/plain": [
       "Counter({1: 658, 2: 342})"
      ]
     },
     "execution_count": 10,
     "metadata": {},
     "output_type": "execute_result"
    }
   ],
   "source": [
    "Counter(random.choices([1,2], weights=[2,1], k=1000))"
   ]
  },
  {
   "cell_type": "code",
   "execution_count": 28,
   "id": "e295f022",
   "metadata": {},
   "outputs": [
    {
     "data": {
      "text/plain": [
       "[(2, 1),\n",
       " (1, 2),\n",
       " (2, 2),\n",
       " (1, 2),\n",
       " (2, 2),\n",
       " (2, 2),\n",
       " (0, 1),\n",
       " (1, 1),\n",
       " (0, 1),\n",
       " (1, 1)]"
      ]
     },
     "execution_count": 28,
     "metadata": {},
     "output_type": "execute_result"
    }
   ],
   "source": [
    "\n",
    "random.choices([(i,j) for i in range(len(accounts)) for j in range(1,3)], k=10)"
   ]
  },
  {
   "cell_type": "code",
   "execution_count": 27,
   "id": "98b482e6",
   "metadata": {},
   "outputs": [],
   "source": [
    "def dictfetchall(cursor):\n",
    "    \"Return all rows from a cursor as a dict\"\n",
    "    columns = [col[0] for col in cursor.description]\n",
    "    return [\n",
    "        dict(zip(columns, row))\n",
    "        for row in cursor.fetchall()\n",
    "    ]"
   ]
  },
  {
   "cell_type": "code",
   "execution_count": 33,
   "id": "2e6c8f80",
   "metadata": {},
   "outputs": [
    {
     "name": "stdout",
     "output_type": "stream",
     "text": [
      "{'id': 3, 'account_text': 'Iva Shu', 'creation_date': datetime.datetime(2022, 10, 17, 12, 3, 32), 'money': 2900}\n",
      "{'id': 4, 'account_text': 'Admin acc', 'creation_date': datetime.datetime(2022, 10, 17, 12, 3, 59), 'money': 7700}\n",
      "{'id': 10, 'account_text': 'vsha96::ivan.shulyugin@yandex.ru', 'creation_date': datetime.datetime(2022, 11, 11, 17, 0, 18), 'money': 1400}\n"
     ]
    }
   ],
   "source": [
    "with connection.cursor() as cursor:\n",
    "        cursor.execute(\"SELECT * FROM expenses_bankaccount\")\n",
    "        for i in dictfetchall(cursor):\n",
    "            print(i)"
   ]
  },
  {
   "cell_type": "markdown",
   "id": "ff0f0b9f",
   "metadata": {},
   "source": [
    "## Generating pipeline\n",
    "- choose account (weighted)\n",
    "- choose amount of money (weighted) and time\n",
    "- create transaction"
   ]
  },
  {
   "cell_type": "code",
   "execution_count": 9,
   "id": "c8641313",
   "metadata": {},
   "outputs": [
    {
     "data": {
      "text/plain": [
       "<QuerySet [<BankAccount: Bank account #3\n",
       "            Iva Shu \n",
       "            (2022-10-17) \n",
       "            with $2800>, <BankAccount: Bank account #4\n",
       "            Admin acc \n",
       "            (2022-10-17) \n",
       "            with $7700>, <BankAccount: Bank account #10\n",
       "            vsha96::ivan.shulyugin@yandex.ru \n",
       "            (2022-11-11) \n",
       "            with $1500>]>"
      ]
     },
     "execution_count": 9,
     "metadata": {},
     "output_type": "execute_result"
    }
   ],
   "source": [
    "accounts = BankAccount.objects.all()\n",
    "accounts"
   ]
  },
  {
   "cell_type": "code",
   "execution_count": 11,
   "id": "8d8421dd",
   "metadata": {},
   "outputs": [],
   "source": [
    "def send_money_direct(sender_account, money, recipient_account):\n",
    "    new_ticket = Ticket()\n",
    "    new_ticket.account = sender_account\n",
    "    new_ticket.ticket_text = 'sending money to acc #' + str(recipient_account.pk)\n",
    "    new_ticket.pub_date = timezone.now()\n",
    "    new_ticket.money = money\n",
    "    new_ticket.save()\n",
    "    recipient_account.money += money\n",
    "    recipient_account.save()"
   ]
  },
  {
   "cell_type": "code",
   "execution_count": 12,
   "id": "6c636b38",
   "metadata": {},
   "outputs": [
    {
     "ename": "ValidationError",
     "evalue": "['Not enough money on the account balance.']",
     "output_type": "error",
     "traceback": [
      "\u001b[0;31m---------------------------------------------------------------------------\u001b[0m",
      "\u001b[0;31mValidationError\u001b[0m                           Traceback (most recent call last)",
      "Input \u001b[0;32mIn [12]\u001b[0m, in \u001b[0;36m<cell line: 1>\u001b[0;34m()\u001b[0m\n\u001b[0;32m----> 1\u001b[0m \u001b[43msend_money_direct\u001b[49m\u001b[43m(\u001b[49m\u001b[43maccounts\u001b[49m\u001b[43m[\u001b[49m\u001b[38;5;241;43m2\u001b[39;49m\u001b[43m]\u001b[49m\u001b[43m,\u001b[49m\u001b[43m \u001b[49m\u001b[38;5;241;43m2000\u001b[39;49m\u001b[43m,\u001b[49m\u001b[43m \u001b[49m\u001b[43maccounts\u001b[49m\u001b[43m[\u001b[49m\u001b[38;5;241;43m1\u001b[39;49m\u001b[43m]\u001b[49m\u001b[43m)\u001b[49m\n",
      "Input \u001b[0;32mIn [11]\u001b[0m, in \u001b[0;36msend_money_direct\u001b[0;34m(sender_account, money, recipient_account)\u001b[0m\n\u001b[1;32m      5\u001b[0m new_ticket\u001b[38;5;241m.\u001b[39mpub_date \u001b[38;5;241m=\u001b[39m timezone\u001b[38;5;241m.\u001b[39mnow()\n\u001b[1;32m      6\u001b[0m new_ticket\u001b[38;5;241m.\u001b[39mmoney \u001b[38;5;241m=\u001b[39m money\n\u001b[0;32m----> 7\u001b[0m \u001b[43mnew_ticket\u001b[49m\u001b[38;5;241;43m.\u001b[39;49m\u001b[43msave\u001b[49m\u001b[43m(\u001b[49m\u001b[43m)\u001b[49m\n\u001b[1;32m      8\u001b[0m recipient_account\u001b[38;5;241m.\u001b[39mmoney \u001b[38;5;241m+\u001b[39m\u001b[38;5;241m=\u001b[39m money\n\u001b[1;32m      9\u001b[0m recipient_account\u001b[38;5;241m.\u001b[39msave()\n",
      "File \u001b[0;32m~/git_repos/MyProgramming/Python/workTime/bank_acc_and_expenses/expenses/models.py:68\u001b[0m, in \u001b[0;36mTicket.save\u001b[0;34m(self, *args, **kwargs)\u001b[0m\n\u001b[1;32m     67\u001b[0m \u001b[38;5;28;01mdef\u001b[39;00m \u001b[38;5;21msave\u001b[39m(\u001b[38;5;28mself\u001b[39m, \u001b[38;5;241m*\u001b[39margs, \u001b[38;5;241m*\u001b[39m\u001b[38;5;241m*\u001b[39mkwargs):\n\u001b[0;32m---> 68\u001b[0m     \u001b[38;5;28;43mself\u001b[39;49m\u001b[38;5;241;43m.\u001b[39;49m\u001b[43mclean\u001b[49m\u001b[43m(\u001b[49m\u001b[43m)\u001b[49m\n\u001b[1;32m     69\u001b[0m     \u001b[38;5;28mself\u001b[39m\u001b[38;5;241m.\u001b[39maccount\u001b[38;5;241m.\u001b[39mspend_money(\u001b[38;5;28mself\u001b[39m)\n\u001b[1;32m     70\u001b[0m     \u001b[38;5;28msuper\u001b[39m(Ticket, \u001b[38;5;28mself\u001b[39m)\u001b[38;5;241m.\u001b[39msave(\u001b[38;5;241m*\u001b[39margs, \u001b[38;5;241m*\u001b[39m\u001b[38;5;241m*\u001b[39mkwargs)\n",
      "File \u001b[0;32m~/git_repos/MyProgramming/Python/workTime/bank_acc_and_expenses/expenses/models.py:65\u001b[0m, in \u001b[0;36mTicket.clean\u001b[0;34m(self)\u001b[0m\n\u001b[1;32m     63\u001b[0m validate_money(\u001b[38;5;28mint\u001b[39m(\u001b[38;5;28mself\u001b[39m\u001b[38;5;241m.\u001b[39mmoney))\n\u001b[1;32m     64\u001b[0m \u001b[38;5;28;01mif\u001b[39;00m \u001b[38;5;129;01mnot\u001b[39;00m \u001b[38;5;28mself\u001b[39m\u001b[38;5;241m.\u001b[39maccount\u001b[38;5;241m.\u001b[39mcan_spend_money(\u001b[38;5;28mself\u001b[39m\u001b[38;5;241m.\u001b[39mmoney):\n\u001b[0;32m---> 65\u001b[0m     \u001b[38;5;28;01mraise\u001b[39;00m ValidationError(_(\u001b[38;5;124m'\u001b[39m\u001b[38;5;124mNot enough money on the account balance.\u001b[39m\u001b[38;5;124m'\u001b[39m))\n",
      "\u001b[0;31mValidationError\u001b[0m: ['Not enough money on the account balance.']"
     ]
    }
   ],
   "source": [
    "# send_money_direct(accounts[2], 10, accounts[1])"
   ]
  },
  {
   "cell_type": "code",
   "execution_count": null,
   "id": "feddd06c",
   "metadata": {},
   "outputs": [],
   "source": []
  }
 ],
 "metadata": {
  "kernelspec": {
   "display_name": "Django Shell-Plus",
   "language": "python",
   "name": "django_extensions"
  },
  "language_info": {
   "codemirror_mode": {
    "name": "ipython",
    "version": 3
   },
   "file_extension": ".py",
   "mimetype": "text/x-python",
   "name": "python",
   "nbconvert_exporter": "python",
   "pygments_lexer": "ipython3",
   "version": "3.9.12"
  }
 },
 "nbformat": 4,
 "nbformat_minor": 5
}
