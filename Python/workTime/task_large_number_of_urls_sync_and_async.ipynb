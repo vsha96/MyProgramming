{
 "cells": [
  {
   "cell_type": "markdown",
   "id": "bdc7f544",
   "metadata": {},
   "source": [
    "# Sync and async code in Python\n",
    "\n",
    "### Task: you have 10^6 urls, how should you read from them the data?"
   ]
  },
  {
   "cell_type": "code",
   "execution_count": 1,
   "id": "88758fc6",
   "metadata": {},
   "outputs": [],
   "source": [
    "# import requests\n",
    "\n",
    "#  this module for async request\n",
    "# import aiohttp\n",
    "\n",
    "import asyncio\n",
    "from time import strftime, time, sleep"
   ]
  },
  {
   "cell_type": "code",
   "execution_count": 2,
   "id": "14211746",
   "metadata": {},
   "outputs": [],
   "source": [
    "# adjust those params\n",
    "NUMBER_OF_URLS = 100\n",
    "DELAY_TIME = 1 # sec"
   ]
  },
  {
   "cell_type": "markdown",
   "id": "4290bbc7",
   "metadata": {},
   "source": [
    "---"
   ]
  },
  {
   "cell_type": "markdown",
   "id": "1dec6fdc",
   "metadata": {},
   "source": [
    "## Solution: sync way"
   ]
  },
  {
   "cell_type": "code",
   "execution_count": 3,
   "id": "d963cd26",
   "metadata": {},
   "outputs": [],
   "source": [
    "def pseudo_delay_for_read(i):\n",
    "    # print(f'{i}: {strftime(\"%X\")} - start')\n",
    "    sleep(DELAY_TIME)\n",
    "    # print(f'{i}: {strftime(\"%X\")} - start')\n",
    "    return i\n",
    "\n",
    "def get_data(i, acc):\n",
    "    res = pseudo_delay_for_read(i)\n",
    "    acc.append(res)\n",
    "\n",
    "def main(N):\n",
    "    acc = []\n",
    "    print(f'Started getting data...')\n",
    "    \n",
    "    t0 = time()\n",
    "    for i in range(N):\n",
    "        get_data(i, acc)\n",
    "    t1 = time()\n",
    "    \n",
    "    print(f'Done in {t1-t0}s: {len(acc)=}')"
   ]
  },
  {
   "cell_type": "code",
   "execution_count": 4,
   "id": "1f2191c6",
   "metadata": {},
   "outputs": [
    {
     "name": "stdout",
     "output_type": "stream",
     "text": [
      "Started getting data...\n",
      "Done in 100.3844940662384s: len(acc)=100\n"
     ]
    }
   ],
   "source": [
    "main(NUMBER_OF_URLS)"
   ]
  },
  {
   "cell_type": "markdown",
   "id": "85cb0c7c",
   "metadata": {},
   "source": [
    "---"
   ]
  },
  {
   "cell_type": "markdown",
   "id": "78bce1c7",
   "metadata": {},
   "source": [
    "## Solution: async way"
   ]
  },
  {
   "cell_type": "code",
   "execution_count": 5,
   "id": "feb76325",
   "metadata": {},
   "outputs": [],
   "source": [
    "async def pseudo_delay_for_read(i):\n",
    "    # print(f'{i}: {strftime(\"%X\")} - start')\n",
    "    await asyncio.sleep(DELAY_TIME)\n",
    "    # print(f'{i}: {strftime(\"%X\")} - start')\n",
    "    return i\n",
    "\n",
    "async def get_data(i, acc):\n",
    "    res = await pseudo_delay_for_read(i)\n",
    "    acc.append(res)\n",
    "    \n",
    "async def main(N):\n",
    "    acc = []\n",
    "    print(f'Started getting data...')\n",
    "    \n",
    "    tasks = [get_data(i+1, acc) for i in range(N)]\n",
    "    t0 = time()\n",
    "    await asyncio.gather(*tasks)\n",
    "    t1 = time()\n",
    "    \n",
    "    print(f'Done in {t1-t0}s: {len(acc)=}')"
   ]
  },
  {
   "cell_type": "code",
   "execution_count": 6,
   "id": "902db6e7",
   "metadata": {
    "scrolled": false
   },
   "outputs": [
    {
     "data": {
      "text/plain": [
       "<Task pending name='Task-4' coro=<main() running at /var/folders/pt/x5r90jr13wx39vb5hf51w6900000gp/T/ipykernel_15487/1081672014.py:11>>"
      ]
     },
     "execution_count": 6,
     "metadata": {},
     "output_type": "execute_result"
    },
    {
     "name": "stdout",
     "output_type": "stream",
     "text": [
      "Started getting data...\n",
      "Done in 1.0094258785247803s: len(acc)=100\n"
     ]
    }
   ],
   "source": [
    "loop = asyncio.get_event_loop()\n",
    "loop.create_task(main(NUMBER_OF_URLS))"
   ]
  },
  {
   "cell_type": "markdown",
   "id": "d9061bd7",
   "metadata": {},
   "source": [
    "---"
   ]
  },
  {
   "cell_type": "markdown",
   "id": "2921396c",
   "metadata": {},
   "source": [
    "## Solution: async way with batching"
   ]
  },
  {
   "cell_type": "code",
   "execution_count": 7,
   "id": "befaeebd",
   "metadata": {},
   "outputs": [],
   "source": [
    "BATCH_SIZE = NUMBER_OF_URLS // 3\n",
    "\n",
    "async def pseudo_delay_for_read(i):\n",
    "    # print(f'{i}: {strftime(\"%X\")} - start')\n",
    "    await asyncio.sleep(5)\n",
    "    # print(f'{i}: {strftime(\"%X\")} - end')\n",
    "    return i\n",
    "\n",
    "async def get_data(i, acc, sem):\n",
    "    async with sem:\n",
    "        res = await pseudo_delay_for_read(i)\n",
    "        acc.append(res)\n",
    "    \n",
    "async def main(N):\n",
    "    acc = []\n",
    "    print(f'Started getting data...')\n",
    "\n",
    "    sem = asyncio.Semaphore(BATCH_SIZE)\n",
    "    tasks = [get_data(i+1, acc, sem) for i in range(N)]\n",
    "    t0 = time()\n",
    "    await asyncio.gather(*tasks)\n",
    "    t1 = time()\n",
    "\n",
    "    print(f'Done in {t1-t0}s: {len(acc)=}')"
   ]
  },
  {
   "cell_type": "code",
   "execution_count": 8,
   "id": "222a37ce",
   "metadata": {},
   "outputs": [
    {
     "data": {
      "text/plain": [
       "<Task pending name='Task-105' coro=<main() running at /var/folders/pt/x5r90jr13wx39vb5hf51w6900000gp/T/ipykernel_15487/1431959143.py:14>>"
      ]
     },
     "execution_count": 8,
     "metadata": {},
     "output_type": "execute_result"
    },
    {
     "name": "stdout",
     "output_type": "stream",
     "text": [
      "Started getting data...\n",
      "Done in 20.011415004730225s: len(acc)=100\n"
     ]
    }
   ],
   "source": [
    "loop = asyncio.get_event_loop()\n",
    "loop.create_task(main(NUMBER_OF_URLS))"
   ]
  }
 ],
 "metadata": {
  "kernelspec": {
   "display_name": "Python 3 (ipykernel)",
   "language": "python",
   "name": "python3"
  },
  "language_info": {
   "codemirror_mode": {
    "name": "ipython",
    "version": 3
   },
   "file_extension": ".py",
   "mimetype": "text/x-python",
   "name": "python",
   "nbconvert_exporter": "python",
   "pygments_lexer": "ipython3",
   "version": "3.9.13"
  }
 },
 "nbformat": 4,
 "nbformat_minor": 5
}
